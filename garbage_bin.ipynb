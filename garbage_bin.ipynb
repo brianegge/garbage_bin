{
  "nbformat": 4,
  "nbformat_minor": 0,
  "metadata": {
    "colab": {
      "name": "garbage_bin.ipynb",
      "provenance": [],
      "collapsed_sections": [],
      "toc_visible": true,
      "include_colab_link": true
    },
    "kernelspec": {
      "name": "python3",
      "display_name": "Python 3"
    },
    "accelerator": "GPU"
  },
  "cells": [
    {
      "cell_type": "markdown",
      "metadata": {
        "id": "view-in-github",
        "colab_type": "text"
      },
      "source": [
        "<a href=\"https://colab.research.google.com/github/brianegge/garbage_bin/blob/master/garbage_bin.ipynb\" target=\"_parent\"><img src=\"https://colab.research.google.com/assets/colab-badge.svg\" alt=\"Open In Colab\"/></a>"
      ]
    },
    {
      "cell_type": "markdown",
      "metadata": {
        "id": "x2fJWG6zpB12",
        "colab_type": "text"
      },
      "source": [
        "#Tensorflow Object Detection with custom dataset in Google Colab\n",
        "\n",
        "Jupyter notebook providing steps to retrain a [ModelZoo](https://github.com/tensorflow/models/blob/master/research/object_detection/g3doc/detection_model_zoo.md) model with custom dataset.\n",
        "\n",
        "It runs in [Google Colab](https://colab.research.google.com) using [Tensorflow Object Detection API](https://github.com/tensorflow/models/tree/master/research/object_detection).\n",
        "\n",
        "**Requirements are only dataset images and annotations file.**\n",
        "\n",
        "**Colab Runtime type: Python3, GPU enabled.**\n",
        "\n"
      ]
    },
    {
      "cell_type": "markdown",
      "metadata": {
        "id": "5kLfbVg8PPaY",
        "colab_type": "text"
      },
      "source": [
        "#Create Dataset\n",
        "\n",
        "I generated dataset annotations with [LabelImg](https://github.com/tzutalin/labelImg).\n",
        "\n",
        "\n"
      ]
    },
    {
      "cell_type": "markdown",
      "metadata": {
        "id": "GOpn4IebMl6p",
        "colab_type": "text"
      },
      "source": [
        "# Install required packages\n"
      ]
    },
    {
      "cell_type": "code",
      "metadata": {
        "id": "PHo2vQdqXk08",
        "colab_type": "code",
        "colab": {}
      },
      "source": [
        "%tensorflow_version 1.x"
      ],
      "execution_count": null,
      "outputs": []
    },
    {
      "cell_type": "markdown",
      "metadata": {
        "id": "rOAbBLL5_st7",
        "colab_type": "text"
      },
      "source": [
        "Mount Google Drive"
      ]
    },
    {
      "cell_type": "markdown",
      "metadata": {
        "id": "md2CQtsS_2Y0",
        "colab_type": "text"
      },
      "source": [
        "The cell will return the following and your needs to go to the link to retrieve the authorization code. Then you are good to go!"
      ]
    },
    {
      "cell_type": "code",
      "metadata": {
        "id": "NTnyZeqo_qZC",
        "colab_type": "code",
        "colab": {}
      },
      "source": [
        "from google.colab import drive\n",
        "import os\n",
        "if not os.path.exists('/content/gdrive'):\n",
        "    drive.mount('/content/gdrive')\n",
        "\n",
        "root_path = '/content/gdrive/My Drive/dev/garbage_bin'  #change dir to your project folder\n",
        "\n",
        "!mkdir -p /content/datalab\n",
        "!rsync -az \"{root_path}/\" /content/datalab\n"
      ],
      "execution_count": null,
      "outputs": []
    },
    {
      "cell_type": "code",
      "metadata": {
        "id": "NTGqlSTLuxld",
        "colab_type": "code",
        "colab": {}
      },
      "source": [
        "!pip install tf_slim\n",
        "\n",
        "import tensorflow as tf\n",
        "print(tf.__version__)\n",
        "\n",
        "import os\n",
        "os.chdir('/content/')\n",
        "!rm -fr models\n",
        "!git clone https://github.com/tensorflow/models.git\n",
        "!git clone https://github.com/brianegge/garbage_bin.git src\n",
        "\n",
        "os.chdir('/content/models/research')\n",
        "#!git checkout ae0a9409212d0072938fa60c9f85740bb89ced7e\n",
        "!git checkout master\n",
        "!git apply --verbose < /content/src/anchor.patch\n",
        "#!cat object_detection/anchor_generators/multiple_grid_anchor_generator.py\n",
        "!protoc object_detection/protos/*.proto --python_out=.\n",
        "\n",
        "import sys\n",
        "sys.path.append('/content/models/research/slim')\n",
        "import matplotlib.pyplot as plt\n",
        "import os\n",
        "os.environ['PYTHONPATH'] += ':/content/models:/content/models/research/:/content/models/research/slim/:/content/models/research/object_detection/utils/:/content/models/research/object_detection'\n",
        "\n",
        "%cd /content/models/research/\n",
        "!python object_detection/builders/model_builder_test.py"
      ],
      "execution_count": null,
      "outputs": []
    },
    {
      "cell_type": "markdown",
      "metadata": {
        "id": "jeyO_oSKdhsG",
        "colab_type": "text"
      },
      "source": [
        "# Download pretrained model\n",
        "\n",
        "To use another model from [Model Zoo](https://github.com/tensorflow/models/blob/master/research/object_detection/g3doc/detection_model_zoo.md) change MODEL var."
      ]
    },
    {
      "cell_type": "code",
      "metadata": {
        "id": "sUDk1gLQsWOz",
        "colab_type": "code",
        "colab": {}
      },
      "source": [
        "%mkdir -p /content/datalab\n",
        "%cd /content/datalab\n",
        "!rm -fr pretrained_model\n",
        "\n",
        "import os\n",
        "import shutil\n",
        "import glob\n",
        "import urllib\n",
        "import tarfile\n",
        "\n",
        "\n",
        "MODEL = 'ssd_mobilenet_v1_coco'\n",
        "MODEL_DATE = '2018_01_28'\n",
        "MODEL_FILE = MODEL + '_' + MODEL_DATE + '.tar.gz'\n",
        "DOWNLOAD_BASE = 'http://download.tensorflow.org/models/object_detection/'\n",
        "DEST_DIR = 'pretrained_model'\n",
        "\n",
        "# Path to frozen detection graph. This is the actual model that is used for the object detection.\n",
        "PATH_TO_CKPT = '/content/datalab/fine_tuned_model/frozen_inference_graph.pb'\n",
        "\n",
        "if not (os.path.exists(MODEL_FILE)):\n",
        "  urllib.request.urlretrieve(DOWNLOAD_BASE + MODEL_FILE, MODEL_FILE)\n",
        "\n",
        "tar = tarfile.open(MODEL_FILE)\n",
        "tar.extractall()\n",
        "tar.close()\n",
        "\n",
        "os.remove(MODEL_FILE)\n",
        "if (os.path.exists(DEST_DIR)):\n",
        "  shutil.rmtree(DEST_DIR)\n",
        "os.rename(MODEL + '_' + MODEL_DATE, DEST_DIR)"
      ],
      "execution_count": null,
      "outputs": []
    },
    {
      "cell_type": "markdown",
      "metadata": {
        "id": "expgj7U95-8W",
        "colab_type": "text"
      },
      "source": [
        "**`Create train and test data sets`**\n"
      ]
    },
    {
      "cell_type": "code",
      "metadata": {
        "id": "bWihvI9I6Mof",
        "colab_type": "code",
        "colab": {}
      },
      "source": [
        "\n",
        "os.chdir('/content/datalab')\n",
        "print(sys.path)\n",
        "!echo \"Running prepare in $(pwd)\"\n",
        "%shell ../src/scripts/create-label-map.py < images/labels.txt > annotations/label_map.pbtxt\n",
        "%shell python ../src/scripts/xml_to_csv.py -i images -o annotations/labels.csv\n",
        "%shell python ../src/scripts/split_labels.py\n",
        "%shell PYTHONPATH=/content/models/research:/content/models/research/slim python ../src/scripts/generate_tfrecord.py --csv_input=annotations/train_labels.csv --label_map=annotations/label_map.pbtxt --img_path=images --output_path=annotations/train.record\n",
        "%shell PYTHONPATH=/content/models/research:/content/models/research/slim python  ../src/scripts/generate_tfrecord.py --csv_input=annotations/test_labels.csv --label_map=annotations/label_map.pbtxt --img_path=images --output_path=annotations/test.record"
      ],
      "execution_count": null,
      "outputs": []
    },
    {
      "cell_type": "markdown",
      "metadata": {
        "id": "2HTraQgqgW3v",
        "colab_type": "text"
      },
      "source": [
        "# Edit model config file\n",
        "To you use a different pretrained model in step before, update accordingly filename var and re.sub functions in next cell.\n"
      ]
    },
    {
      "cell_type": "code",
      "metadata": {
        "id": "f1twuMBWvhL4",
        "colab_type": "code",
        "colab": {}
      },
      "source": [
        "%cd /content/datalab\n",
        "\n",
        "import re\n",
        "\n",
        "in_file = '/content/models/research/object_detection/samples/configs/{}.config'.format(MODEL)\n",
        "pipeline_config_path = '/content/datalab/pretrained_model/pipeline.config'\n",
        "\n",
        "# todo grab number of classes from /root/datalab/annotations/label_map.pbtxt\n",
        "\n",
        "with open(in_file) as f:\n",
        "  s = f.read()\n",
        "with open(pipeline_config_path, 'w') as f:\n",
        "  s = re.sub('num_classes: [0-9]+', 'num_classes: 4', s)\n",
        "  s = re.sub('PATH_TO_BE_CONFIGURED/model.ckpt', '/content/datalab/pretrained_model/model.ckpt', s)\n",
        "  s = re.sub('PATH_TO_BE_CONFIGURED/.*_train.record-\\?\\?\\?\\?\\?-of-[0-9]*', '/content/datalab/annotations/train.record', s)\n",
        "  s = re.sub('PATH_TO_BE_CONFIGURED/mscoco_train.record', '/content/datalab/annotations/train.record', s)\n",
        "  s = re.sub('PATH_TO_BE_CONFIGURED/.*_val.record-\\?\\?\\?\\?\\?-of-[0-9]*', '/content/datalab/annotations/test.record', s)\n",
        "  s = re.sub('PATH_TO_BE_CONFIGURED/mscoco_val.record', '/content/datalab/annotations/test.record', s)\n",
        "  s = re.sub('PATH_TO_BE_CONFIGURED/.*_map.pbtxt', '/content/datalab/annotations/label_map.pbtxt', s)\n",
        "  s = re.sub('max_detections_per_class: 100', 'max_detections_per_class: 1', s)\n",
        "  s = re.sub('random_horizontal_flip', 'random_adjust_brightness', s)\n",
        "  s = re.sub('ssd_random_crop', 'random_adjust_saturation', s)\n",
        "  s = re.sub('max_evals: 10', 'max_evals: 100', s)\n",
        "  s = re.sub('batch_size: 24', 'batch_size: 8', s)\n",
        "  s = re.sub('num_steps: 200000', 'num_steps: 500', s)\n",
        "  \n",
        "  #s = re.sub('keep_aspect_ratio_resizer','fixed_shape_resizer',s)\n",
        "  #s = re.sub('min_dimension: 600','height: 960',s)\n",
        "  #s = re.sub('max_dimension: 1024','width: 540',s)\n",
        "  f.write(s)\n",
        "#!cat {pipeline_config_path}"
      ],
      "execution_count": null,
      "outputs": []
    },
    {
      "cell_type": "code",
      "metadata": {
        "id": "iqYoUK1ir3-B",
        "colab_type": "code",
        "colab": {}
      },
      "source": [
        "# tensorboard setup - this doesn't work right now\n",
        "\n",
        "# borrowed from https://colab.research.google.com/drive/1bUiykt6QIZPU586TnlL-GNSE74b506uX?usp=sharing#scrollTo=fO4xnKenbfQK\n",
        "!wget https://bin.equinox.io/c/4VmDzA7iaHb/ngrok-stable-linux-amd64.zip\n",
        "!unzip -o ngrok-stable-linux-amd64.zip\n",
        "#the logs that are created while training \n",
        "LOG_DIR = \"/content/datalab/trained\"\n",
        "get_ipython().system_raw(\n",
        "    'tensorboard --logdir {} --host 0.0.0.0 --port 6006 &'\n",
        "    .format(LOG_DIR)\n",
        ")\n",
        "get_ipython().system_raw('./ngrok http 6006 &')\n",
        "#The link to tensorboard.\n",
        "#works after the training starts.\n",
        "!curl -s http://localhost:4040/api/tunnels | python3 -c \\\n",
        "    \"import sys, json; print(json.load(sys.stdin)['tunnels'][0]['public_url'])\""
      ],
      "execution_count": null,
      "outputs": []
    },
    {
      "cell_type": "markdown",
      "metadata": {
        "id": "MAYXLhS2uZ9X",
        "colab_type": "text"
      },
      "source": [
        "# Train model\n",
        "Set num_train_steps and num_eval_steps values to change train and eval steps in training process.\n",
        "\n"
      ]
    },
    {
      "cell_type": "code",
      "metadata": {
        "id": "hl6mCzbz8QKV",
        "colab_type": "code",
        "colab": {}
      },
      "source": [
        "%cd /content/datalab\n",
        "! [ -d trained ] && rm -fr trained/* || mkdir -p trained\n",
        "\n",
        "#!PYTHONPATH=.:/content/models:/content/models/research:/content/models/research/slim \\\n",
        "#python /content/models/research/object_detection/model_main.py \\\n",
        "#    --pipeline_config_path={pipeline_config_path} \\\n",
        "#    --model_dir=trained \\\n",
        "#    --alsologtostderr \\\n",
        "#    --num_train_steps=300\n",
        "\n",
        "# Begin training\n",
        "%cd /content/models/research/\n",
        "!protoc object_detection/protos/*.proto --python_out=.\n",
        "!python /content/models/research/object_detection/legacy/train.py \\\n",
        "    --logtostderr \\\n",
        "    --train_dir=/content/datalab/trained \\\n",
        "    --pipeline_config_path={pipeline_config_path}\n",
        "\n",
        "# export model after training\n",
        "#!rm -fr fine_tuned_model/*\n",
        "#lst = os.listdir('trained')\n",
        "#lf = filter(lambda k: 'model.ckpt-' in k, lst)\n",
        "#last_model = sorted(lf)[-1].replace('.meta', '')\n",
        "\n",
        "#!PYTHONPATH=.:/content/models/research:/content/models/research/slim \\\n",
        "#python /content/models/research/object_detection/export_inference_graph.py \\\n",
        "#    --input_type=image_tensor \\\n",
        "#    --pipeline_config_path={pipeline_config_path} \\\n",
        "#    --output_directory=fine_tuned_model \\\n",
        "#    --trained_checkpoint_prefix=trained/$last_model\n",
        "\n",
        "#!cp -rv /content/datalab/fine_tuned_model/frozen_inference_graph.pb \"{root_path}/\"   \n"
      ],
      "execution_count": null,
      "outputs": []
    },
    {
      "cell_type": "markdown",
      "metadata": {
        "id": "rjJCB5NKK4Nb",
        "colab_type": "text"
      },
      "source": [
        "#Export trained model\n",
        "\n",
        "Export trained model with highest step number in filename."
      ]
    },
    {
      "cell_type": "code",
      "metadata": {
        "id": "cp73hpU8ZrQ9",
        "colab_type": "code",
        "colab": {}
      },
      "source": [
        "#!python -c 'import tensorflow as tf; print(tf.__version__)'\n",
        "\n",
        "%cd /content/datalab\n",
        "\n",
        "!mkdir -p fine_tuned_model\n",
        "\n",
        "!rm -fr fine_tuned_model/*\n",
        "lst = os.listdir('trained')\n",
        "lf = filter(lambda k: 'model.ckpt-' in k, lst)\n",
        "last_model = sorted(lf)[-1].replace('.meta', '')\n",
        "\n",
        "#!ls /content/datalab/trained/{last_model}*\n",
        "\n",
        "%cd /content/models/research\n",
        "import os\n",
        "os.environ['PYTHONPATH'] += ':/content/models/research/:/content/models/research/slim/:/content/models/research/object_detection/utils/:/content/models/research/object_detection'\n",
        "!python object_detection/export_inference_graph.py \\\n",
        "    --input_type=image_tensor \\\n",
        "    --pipeline_config_path=/content/datalab/trained/pipeline.config \\\n",
        "    --output_directory=/content/datalab/fine_tuned_model \\\n",
        "    --trained_checkpoint_prefix=/content/datalab/trained/{last_model}\n",
        "\n",
        "!cp -rv /content/datalab/fine_tuned_model/frozen_inference_graph.pb \"{root_path}/\"\n",
        "\n"
      ],
      "execution_count": null,
      "outputs": []
    },
    {
      "cell_type": "markdown",
      "metadata": {
        "id": "yEKYdPJSoHb6",
        "colab_type": "text"
      },
      "source": [
        "# Run inference\n"
      ]
    },
    {
      "cell_type": "code",
      "metadata": {
        "id": "VUy6KXMToLVc",
        "colab_type": "code",
        "colab": {}
      },
      "source": [
        "%cd /content/models/research/object_detection\n",
        "\n",
        "import numpy as np\n",
        "import os\n",
        "import six.moves.urllib as urllib\n",
        "import sys\n",
        "import tarfile\n",
        "import tensorflow as tf\n",
        "import zipfile\n",
        "import glob\n",
        "\n",
        "from collections import defaultdict\n",
        "from io import StringIO\n",
        "from matplotlib import pyplot as plt\n",
        "from PIL import Image\n",
        "from pprint import pprint\n",
        "\n",
        "# This is needed since the notebook is stored in the object_detection folder.\n",
        "sys.path.append(\"..\")\n",
        "from object_detection.utils import ops as utils_ops\n",
        "\n",
        "#print(tf.__version__)\n",
        "#if tf.__version__ < '1.4.0':\n",
        "#  raise ImportError('Please upgrade your tensorflow installation to v1.4.* or later!')\n",
        "  \n",
        "# This is needed to display the images.\n",
        "%matplotlib inline\n",
        "\n",
        "from utils import label_map_util\n",
        "from utils import visualization_utils as vis_util\n",
        "\n",
        "# What model to download.\n",
        "# Path to frozen detection graph. This is the actual model that is used for the object detection.\n",
        "PATH_TO_CKPT = '/content/datalab/fine_tuned_model' + '/frozen_inference_graph.pb'\n",
        "\n",
        "# List of the strings that is used to add correct label for each box.\n",
        "PATH_TO_LABELS = os.path.join('/content/datalab/annotations/', 'label_map.pbtxt')\n",
        "\n",
        "NUM_CLASSES = 4\n",
        "\n",
        "detection_graph = tf.Graph()\n",
        "with detection_graph.as_default():\n",
        "  od_graph_def = tf.GraphDef()\n",
        "  with tf.gfile.GFile(PATH_TO_CKPT, 'rb') as fid:\n",
        "    serialized_graph = fid.read()\n",
        "    od_graph_def.ParseFromString(serialized_graph)\n",
        "    tf.import_graph_def(od_graph_def, name='')\n",
        "    \n",
        "label_map = label_map_util.load_labelmap(PATH_TO_LABELS)\n",
        "categories = label_map_util.convert_label_map_to_categories(label_map, max_num_classes=NUM_CLASSES, use_display_name=True)\n",
        "category_index = label_map_util.create_category_index(categories)\n",
        "\n",
        "def load_image_into_numpy_array(image):\n",
        "  (im_width, im_height) = image.size\n",
        "  return np.array(image.getdata()).reshape(\n",
        "      (im_height, im_width, 3)).astype(np.uint8)\n",
        "\n",
        "# If you want to test the code with your images, just add path to the images to the TEST_IMAGE_PATHS.\n",
        "PATH_TO_TEST_IMAGES_DIR = '/content/datalab/images'\n",
        "TEST_IMAGE_PATHS = glob.glob(PATH_TO_TEST_IMAGES_DIR + '/*.jpg') + glob.glob(PATH_TO_TEST_IMAGES_DIR + '/*.png')\n",
        "# Size, in inches, of the output images.\n",
        "IMAGE_SIZE = (18, 12)\n",
        "\n",
        "def run_inference_for_single_image(image, graph):\n",
        "  with graph.as_default():\n",
        "    with tf.Session() as sess:\n",
        "      # Get handles to input and output tensors\n",
        "      ops = tf.get_default_graph().get_operations()\n",
        "      all_tensor_names = {output.name for op in ops for output in op.outputs}\n",
        "      tensor_dict = {}\n",
        "      for key in [\n",
        "          'num_detections', 'detection_boxes', 'detection_scores',\n",
        "          'detection_classes', 'detection_masks'\n",
        "      ]:\n",
        "        tensor_name = key + ':0'\n",
        "        if tensor_name in all_tensor_names:\n",
        "          tensor_dict[key] = tf.get_default_graph().get_tensor_by_name(\n",
        "              tensor_name)\n",
        "      if 'detection_masks' in tensor_dict:\n",
        "        # The following processing is only for single image\n",
        "        detection_boxes = tf.squeeze(tensor_dict['detection_boxes'], [0])\n",
        "        detection_masks = tf.squeeze(tensor_dict['detection_masks'], [0])\n",
        "        # Reframe is required to translate mask from box coordinates to image coordinates and fit the image size.\n",
        "        real_num_detection = tf.cast(tensor_dict['num_detections'][0], tf.int32)\n",
        "        detection_boxes = tf.slice(detection_boxes, [0, 0], [real_num_detection, -1])\n",
        "        detection_masks = tf.slice(detection_masks, [0, 0, 0], [real_num_detection, -1, -1])\n",
        "        detection_masks_reframed = utils_ops.reframe_box_masks_to_image_masks(\n",
        "            detection_masks, detection_boxes, image.shape[0], image.shape[1])\n",
        "        detection_masks_reframed = tf.cast(\n",
        "            tf.greater(detection_masks_reframed, 0.5), tf.uint8)\n",
        "        # Follow the convention by adding back the batch dimension\n",
        "        tensor_dict['detection_masks'] = tf.expand_dims(\n",
        "            detection_masks_reframed, 0)\n",
        "      image_tensor = tf.get_default_graph().get_tensor_by_name('image_tensor:0')\n",
        "\n",
        "      # Run inference\n",
        "      output_dict = sess.run(tensor_dict,\n",
        "                             feed_dict={image_tensor: np.expand_dims(image, 0)})\n",
        "\n",
        "      # all outputs are float32 numpy arrays, so convert types as appropriate\n",
        "      output_dict['num_detections'] = int(output_dict['num_detections'][0])\n",
        "      output_dict['detection_classes'] = output_dict[\n",
        "          'detection_classes'][0].astype(np.uint8)\n",
        "      output_dict['detection_boxes'] = output_dict['detection_boxes'][0]\n",
        "      output_dict['detection_scores'] = output_dict['detection_scores'][0]\n",
        "      if 'detection_masks' in output_dict:\n",
        "        output_dict['detection_masks'] = output_dict['detection_masks'][0]\n",
        "  return output_dict\n",
        "\n",
        "\n",
        "# last time images by time\n",
        "for image_path in sorted(TEST_IMAGE_PATHS, key=os.path.getmtime)[-10:]:\n",
        "  image = Image.open(image_path)\n",
        "  image.resize((960, 540))\n",
        "  # the array based representation of the image will be used later in order to prepare the\n",
        "  # result image with boxes and labels on it.\n",
        "  image_np = load_image_into_numpy_array(image)\n",
        "  # Expand dimensions since the model expects images to have shape: [1, None, None, 3]\n",
        "  image_np_expanded = np.expand_dims(image_np, axis=0)\n",
        "  # Actual detection.\n",
        "  output_dict = run_inference_for_single_image(image_np, detection_graph)\n",
        "  #pprint(output_dict['detection_scores'])\n",
        "  for index, score in enumerate(output_dict['detection_scores']):\n",
        "    if score < 0.75:\n",
        "      continue\n",
        "    label = category_index[output_dict['detection_classes'][index]]['name']\n",
        "    #print('{} has {}'.format(image_path,label))\n",
        "  # Visualization of the results of a detection.\n",
        "  vis_util.visualize_boxes_and_labels_on_image_array(\n",
        "      image_np,\n",
        "      output_dict['detection_boxes'],\n",
        "      output_dict['detection_classes'],\n",
        "      output_dict['detection_scores'],\n",
        "      category_index,\n",
        "      instance_masks=output_dict.get('detection_masks'),\n",
        "      use_normalized_coordinates=True,\n",
        "      line_thickness=8)\n",
        "  plt.figure(figsize=IMAGE_SIZE)\n",
        "  plt.imshow(image_np)\n",
        "  "
      ],
      "execution_count": null,
      "outputs": []
    },
    {
      "cell_type": "markdown",
      "metadata": {
        "id": "wDEY7rmQE7nQ",
        "colab_type": "text"
      },
      "source": [
        "#Upload jpg image for inference"
      ]
    },
    {
      "cell_type": "code",
      "metadata": {
        "id": "oI8Ya_6GE9ll",
        "colab_type": "code",
        "colab": {}
      },
      "source": [
        "%cd /content/datalab\n",
        "\n",
        "!ls -ltrh /content/datalab/fine_tuned_model/\n",
        "\n",
        "from google.colab import files\n",
        "from os import path\n",
        "\n",
        "uploaded = files.upload()\n",
        "  \n",
        "for name, data in uploaded.items():\n",
        "  with open('image1.jpg', 'wb') as f:\n",
        "    f.write(data)\n",
        "    f.close()\n",
        "    print('saved file ' + name)"
      ],
      "execution_count": null,
      "outputs": []
    }
  ]
}